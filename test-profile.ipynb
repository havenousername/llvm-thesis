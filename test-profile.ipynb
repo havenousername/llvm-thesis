{
 "cells": [
  {
   "cell_type": "markdown",
   "metadata": {},
   "source": [
    "# Test Profile Results\n",
    "\n",
    "This code will analize the output of `test_apps_checker.sh` script and will create a visual representaion of how fast each of the rules are running\n",
    "\n",
    "## Preconditions\n",
    "\n",
    "`.tmp/profile` directory with profiled `.json` files."
   ]
  },
  {
   "cell_type": "markdown",
   "metadata": {},
   "source": [
    "## Import libararies"
   ]
  },
  {
   "cell_type": "code",
   "execution_count": 1,
   "metadata": {},
   "outputs": [],
   "source": [
    "import pandas as pd \n",
    "import os\n",
    "import json\n",
    "import matplotlib.pyplot as plt "
   ]
  },
  {
   "cell_type": "markdown",
   "metadata": {},
   "source": [
    "## Traserve files and obtain its content"
   ]
  },
  {
   "cell_type": "code",
   "execution_count": 32,
   "metadata": {},
   "outputs": [],
   "source": [
    "big_json = []\n",
    "names = []\n",
    "for filename in os.listdir(os.getcwd() + \"/.tmp/profile\"):\n",
    "    with open(os.path.join(os.getcwd() + \"/.tmp/profile\", filename), 'r') as f:\n",
    "       json_text = json.loads(f.read())\n",
    "       big_json.append(json_text[\"profile\"])\n",
    "       filename = os.path.basename(f.name)[22:].split('.c')[0]\n",
    "       names.append(filename)"
   ]
  },
  {
   "cell_type": "markdown",
   "metadata": {},
   "source": [
    "# Create a dataframe and fix the columns"
   ]
  },
  {
   "cell_type": "code",
   "execution_count": 33,
   "metadata": {},
   "outputs": [
    {
     "name": "stdout",
     "output_type": "stream",
     "text": [
      "          File Name  time.clang-tidy.cert-dcl03-c.wall  \\\n",
      "0      2-asrc_flite                           0.007950   \n",
      "1  7-avf_ahistogram                           0.056664   \n",
      "2       2-f_latency                           0.021461   \n",
      "3     4-af_aexciter                           0.022786   \n",
      "4   0-vf_cropdetect                           0.052406   \n",
      "\n",
      "   time.clang-tidy.cert-dcl03-c.user  time.clang-tidy.cert-dcl03-c.sys  \\\n",
      "0                           0.006488                          0.001537   \n",
      "1                           0.032598                          0.007613   \n",
      "2                           0.020599                          0.000557   \n",
      "3                           0.019892                          0.002062   \n",
      "4                           0.044578                          0.008061   \n",
      "\n",
      "   time.clang-tidy.cert-dcl51-cpp.wall  time.clang-tidy.cert-dcl51-cpp.user  \\\n",
      "0                             1.512055                             1.156413   \n",
      "1                             1.387177                             1.049113   \n",
      "2                             0.508425                             0.424121   \n",
      "3                             1.173902                             0.898136   \n",
      "4                             1.371894                             1.133675   \n",
      "\n",
      "   time.clang-tidy.cert-dcl51-cpp.sys  \\\n",
      "0                            0.294359   \n",
      "1                            0.167387   \n",
      "2                            0.069469   \n",
      "3                            0.147555   \n",
      "4                            0.179491   \n",
      "\n",
      "   time.clang-tidy.performance-no-int-to-ptr.wall  \\\n",
      "0                                        0.005393   \n",
      "1                                        0.100953   \n",
      "2                                        0.002503   \n",
      "3                                        0.006897   \n",
      "4                                        0.070320   \n",
      "\n",
      "   time.clang-tidy.performance-no-int-to-ptr.user  \\\n",
      "0                                        0.003573   \n",
      "1                                        0.055357   \n",
      "2                                        0.002035   \n",
      "3                                        0.025410   \n",
      "4                                        0.042984   \n",
      "\n",
      "   time.clang-tidy.performance-no-int-to-ptr.sys  ...  \\\n",
      "0                                       0.002228  ...   \n",
      "1                                       0.037493  ...   \n",
      "2                                       0.000487  ...   \n",
      "3                                       0.004212  ...   \n",
      "4                                       0.010738  ...   \n",
      "\n",
      "   time.clang-tidy.cert-fio38-c.sys  time.clang-tidy.cert-con36-c.wall  \\\n",
      "0                          0.037549                           0.002333   \n",
      "1                          0.125724                           0.003752   \n",
      "2                          0.038223                           0.013893   \n",
      "3                          0.082536                           0.013698   \n",
      "4                          0.051434                           0.033482   \n",
      "\n",
      "   time.clang-tidy.cert-con36-c.user  time.clang-tidy.cert-con36-c.sys  \\\n",
      "0                           0.001824                          0.000543   \n",
      "1                           0.003338                          0.000467   \n",
      "2                           0.011968                          0.001640   \n",
      "3                           0.013052                          0.000516   \n",
      "4                           0.027078                          0.005776   \n",
      "\n",
      "   time.clang-tidy.cert-msc30-c.wall  time.clang-tidy.cert-msc30-c.user  \\\n",
      "0                           0.004610                           0.001979   \n",
      "1                           0.036836                           0.032023   \n",
      "2                           0.001277                           0.000893   \n",
      "3                           0.002003                           0.001693   \n",
      "4                           0.013869                           0.012496   \n",
      "\n",
      "   time.clang-tidy.cert-msc30-c.sys  time.clang-tidy.cert-exp42-c.wall  \\\n",
      "0                          0.002901                           0.001546   \n",
      "1                          0.004476                           0.001260   \n",
      "2                          0.000204                           0.000413   \n",
      "3                          0.000341                           0.000927   \n",
      "4                          0.001019                           0.002952   \n",
      "\n",
      "   time.clang-tidy.cert-exp42-c.user  time.clang-tidy.cert-exp42-c.sys  \n",
      "0                           0.001199                          0.000355  \n",
      "1                           0.001041                          0.000212  \n",
      "2                           0.000329                          0.000071  \n",
      "3                           0.000682                          0.000189  \n",
      "4                           0.002521                          0.000448  \n",
      "\n",
      "[5 rows x 82 columns]\n"
     ]
    }
   ],
   "source": [
    "df = pd.DataFrame(big_json)\n",
    "df['File Name'] = names\n",
    "columns = df.columns.tolist()\n",
    "columns.insert(0, columns.pop())\n",
    "df = df[columns]\n",
    "print(df[:10]) \n"
   ]
  },
  {
   "cell_type": "markdown",
   "metadata": {},
   "source": [
    "## Remove unnecessary dataframe parts"
   ]
  },
  {
   "cell_type": "code",
   "execution_count": 34,
   "metadata": {},
   "outputs": [],
   "source": [
    "# remove dataframe parts\n",
    "df = df[df.columns.drop(list(df.filter(regex='.*\\.sys|.*\\.wall')))]"
   ]
  },
  {
   "cell_type": "markdown",
   "metadata": {},
   "source": [
    "## Plot the checker results time and the files"
   ]
  },
  {
   "cell_type": "code",
   "execution_count": 37,
   "metadata": {},
   "outputs": [
    {
     "data": {
      "text/plain": [
       "<AxesSubplot: xlabel='File Name'>"
      ]
     },
     "execution_count": 37,
     "metadata": {},
     "output_type": "execute_result"
    },
    {
     "data": {
      "image/png": "[encoded data removed]",
      "text/plain": [
       "<Figure size 640x480 with 1 Axes>"
      ]
     },
     "metadata": {},
     "output_type": "display_data"
    }
   ],
   "source": [
    "df[:10].plot(\n",
    "    x=\"File Name\",\n",
    "    y=[\n",
    "        \"time.clang-tidy.readability-inconsistent-declaration-parameter-name.user\",\n",
    "        \"time.clang-tidy.performance-no-int-to-ptr.user\",\n",
    "        \"time.clang-tidy.cert-dcl03-c.user\",\n",
    "        \"time.clang-tidy.cert-flp30-c.user\",\n",
    "        \"time.clang-tidy.cert-assignments-in-selection.user\", \n",
    "    ], \n",
    "    kind=\"bar\"\n",
    ")"
   ]
  },
  {
   "cell_type": "code",
   "execution_count": 42,
   "metadata": {},
   "outputs": [
    {
     "data": {
      "text/html": [
       "<div>\n",
       "<style scoped>\n",
       "    .dataframe tbody tr th:only-of-type {\n",
       "        vertical-align: middle;\n",
       "    }\n",
       "\n",
       "    .dataframe tbody tr th {\n",
       "        vertical-align: top;\n",
       "    }\n",
       "\n",
       "    .dataframe thead th {\n",
       "        text-align: right;\n",
       "    }\n",
       "</style>\n",
       "<table border=\"1\" class=\"dataframe\">\n",
       "  <thead>\n",
       "    <tr style=\"text-align: right;\">\n",
       "      <th></th>\n",
       "      <th>time.clang-tidy.cert-mem57-cpp.user</th>\n",
       "      <th>time.clang-tidy.cert-flp37-c.user</th>\n",
       "      <th>time.clang-tidy.cert-err33-c.user</th>\n",
       "      <th>time.clang-tidy.cert-err34-c.user</th>\n",
       "      <th>time.clang-tidy.cert-env33-c.user</th>\n",
       "      <th>time.clang-tidy.cert-assignments-in-selection.user</th>\n",
       "      <th>time.clang-tidy.cert-pos44-c.user</th>\n",
       "      <th>time.clang-tidy.cert-dcl16-c.user</th>\n",
       "      <th>time.clang-tidy.cert-pos47-c.user</th>\n",
       "      <th>time.clang-tidy.cert-dcl37-c.user</th>\n",
       "      <th>time.clang-tidy.cert-str34-c.user</th>\n",
       "      <th>time.clang-tidy.performance-type-promotion-in-math-fn.user</th>\n",
       "      <th>time.clang-tidy.cert-sig30-c.user</th>\n",
       "      <th>time.clang-tidy.cert-msc32-c.user</th>\n",
       "      <th>time.clang-tidy.cert-fio38-c.user</th>\n",
       "      <th>time.clang-tidy.cert-con36-c.user</th>\n",
       "      <th>time.clang-tidy.cert-msc30-c.user</th>\n",
       "      <th>time.clang-tidy.cert-exp42-c.user</th>\n",
       "    </tr>\n",
       "  </thead>\n",
       "  <tbody>\n",
       "    <tr>\n",
       "      <th>1</th>\n",
       "      <td>0.000009</td>\n",
       "      <td>0.024178</td>\n",
       "      <td>0.204305</td>\n",
       "      <td>0.001745</td>\n",
       "      <td>0.000968</td>\n",
       "      <td>0.03374</td>\n",
       "      <td>0.000876</td>\n",
       "      <td>0.583946</td>\n",
       "      <td>0.001198</td>\n",
       "      <td>1.089885</td>\n",
       "      <td>0.065243</td>\n",
       "      <td>0.016761</td>\n",
       "      <td>0.001756</td>\n",
       "      <td>0.000919</td>\n",
       "      <td>0.227918</td>\n",
       "      <td>0.003338</td>\n",
       "      <td>0.032023</td>\n",
       "      <td>0.001041</td>\n",
       "    </tr>\n",
       "  </tbody>\n",
       "</table>\n",
       "</div>"
      ],
      "text/plain": [
       "   time.clang-tidy.cert-mem57-cpp.user  time.clang-tidy.cert-flp37-c.user  \\\n",
       "1                             0.000009                           0.024178   \n",
       "\n",
       "   time.clang-tidy.cert-err33-c.user  time.clang-tidy.cert-err34-c.user  \\\n",
       "1                           0.204305                           0.001745   \n",
       "\n",
       "   time.clang-tidy.cert-env33-c.user  \\\n",
       "1                           0.000968   \n",
       "\n",
       "   time.clang-tidy.cert-assignments-in-selection.user  \\\n",
       "1                                            0.03374    \n",
       "\n",
       "   time.clang-tidy.cert-pos44-c.user  time.clang-tidy.cert-dcl16-c.user  \\\n",
       "1                           0.000876                           0.583946   \n",
       "\n",
       "   time.clang-tidy.cert-pos47-c.user  time.clang-tidy.cert-dcl37-c.user  \\\n",
       "1                           0.001198                           1.089885   \n",
       "\n",
       "   time.clang-tidy.cert-str34-c.user  \\\n",
       "1                           0.065243   \n",
       "\n",
       "   time.clang-tidy.performance-type-promotion-in-math-fn.user  \\\n",
       "1                                           0.016761            \n",
       "\n",
       "   time.clang-tidy.cert-sig30-c.user  time.clang-tidy.cert-msc32-c.user  \\\n",
       "1                           0.001756                           0.000919   \n",
       "\n",
       "   time.clang-tidy.cert-fio38-c.user  time.clang-tidy.cert-con36-c.user  \\\n",
       "1                           0.227918                           0.003338   \n",
       "\n",
       "   time.clang-tidy.cert-msc30-c.user  time.clang-tidy.cert-exp42-c.user  \n",
       "1                           0.032023                           0.001041  "
      ]
     },
     "execution_count": 42,
     "metadata": {},
     "output_type": "execute_result"
    }
   ],
   "source": [
    "df.nlargest(1,'time.clang-tidy.cert-assignments-in-selection.user').iloc[:, 10:]"
   ]
  }
 ],
 "metadata": {
  "kernelspec": {
   "display_name": "env",
   "language": "python",
   "name": "python3"
  },
  "language_info": {
   "codemirror_mode": {
    "name": "ipython",
    "version": 3
   },
   "file_extension": ".py",
   "mimetype": "text/x-python",
   "name": "python",
   "nbconvert_exporter": "python",
   "pygments_lexer": "ipython3",
   "version": "3.8.10"
  },
  "orig_nbformat": 4,
  "vscode": {
   "interpreter": {
    "hash": "9c82074cdb19ec29bc5287e3110a1f63de6c7b366be5abb4bea458672382a081"
   }
  }
 },
 "nbformat": 4,
 "nbformat_minor": 2
}
